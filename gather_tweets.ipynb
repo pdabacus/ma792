{
 "cells": [
  {
   "cell_type": "markdown",
   "id": "5c33ff87-ce33-46de-b472-ea1e8dc57fe9",
   "metadata": {},
   "source": [
    "## authenticate with twitter api"
   ]
  },
  {
   "cell_type": "code",
   "execution_count": 123,
   "id": "fb85c0fc-ffb5-4027-9c07-4d44ee76d49d",
   "metadata": {},
   "outputs": [],
   "source": [
    "import tweepy\n",
    "import time\n",
    "\n",
    "###############################\n",
    "# PASTE API KEYS/SECRETS HERE #\n",
    "###############################\n",
    "\n",
    "twitter_api_key = \"XXrmy3gc  REDACTED  VQgm0Lx0\"\n",
    "twitter_api_secret = \"YgqD5  REDACTED  cyXd1Vg7IJrTrQCu\"\n",
    "twitter_access_token = \"127  REDACTED  WXFttiAGBgNyF\"\n",
    "twitter_access_secret = \"DS  REDACTED  TLGwDimLv\"\n"
   ]
  },
  {
   "cell_type": "code",
   "execution_count": 124,
   "id": "1aa68e8f-fa0d-49e7-af90-bab2bfded41c",
   "metadata": {},
   "outputs": [],
   "source": [
    "auth = tweepy.OAuthHandler(twitter_api_key, twitter_api_secret)\n",
    "auth.set_access_token(twitter_access_token, twitter_access_secret)\n",
    "api = tweepy.API(auth)"
   ]
  },
  {
   "cell_type": "markdown",
   "id": "c4bb5491-1f6e-427c-a7a1-bd3cbdf07a17",
   "metadata": {},
   "source": [
    "## choose a twitter user"
   ]
  },
  {
   "cell_type": "code",
   "execution_count": 125,
   "id": "c45fc50e-a6ed-4646-adb2-07cb06a327c4",
   "metadata": {},
   "outputs": [],
   "source": [
    "USER = \"elonmusk\"\n",
    "\n",
    "\n",
    "# get first few tweets\n",
    "history = list()\n",
    "tweets = api.user_timeline(screen_name=USER, count=200, tweet_mode=\"extended\")\n",
    "history.extend(tweets)"
   ]
  },
  {
   "cell_type": "markdown",
   "id": "56a11efe-872b-4b3a-9144-fed91c6d7f0a",
   "metadata": {},
   "source": [
    "## download all their tweets"
   ]
  },
  {
   "cell_type": "code",
   "execution_count": 129,
   "id": "cf7af42d-0e1a-4f26-9ed9-5a1e1303e11b",
   "metadata": {},
   "outputs": [
    {
     "name": "stdout",
     "output_type": "stream",
     "text": [
      "fetched 200 tweets from elonmusk\n",
      "fetched 200 tweets from elonmusk\n",
      "fetched 200 tweets from elonmusk\n",
      "fetched 200 tweets from elonmusk\n",
      "fetched 200 tweets from elonmusk\n",
      "total tweets gathered: 2200\n"
     ]
    }
   ],
   "source": [
    "# keep trying to get tweets (run this cell multiple times)\n",
    "last_tweet_id = history[-1].id\n",
    "tweets = api.user_timeline(screen_name=USER, count=200, max_id=last_tweet_id-1, tweet_mode=\"extended\")\n",
    "\n",
    "while len(tweets) > 0:\n",
    "    print(\"fetched %d tweets from %s\" % (len(tweets), USER))\n",
    "    history.extend(tweets)\n",
    "    last_tweet_id = history[-1].id\n",
    "    time.sleep(1)\n",
    "    tweets = api.user_timeline(screen_name=USER, count=200, max_id=last_tweet_id-1, tweet_mode=\"extended\")\n",
    "\n",
    "print(\"total tweets gathered: %d\" % len(history))"
   ]
  },
  {
   "cell_type": "markdown",
   "id": "44e4ebdf-7273-4380-a236-2b9f6fd0a2b6",
   "metadata": {},
   "source": [
    "## print last 5 tweets gathered"
   ]
  },
  {
   "cell_type": "code",
   "execution_count": 132,
   "id": "91f1fbb4-696b-4e32-8976-f5722c4ea217",
   "metadata": {},
   "outputs": [
    {
     "name": "stdout",
     "output_type": "stream",
     "text": [
      "1\n",
      "elonmusk\n",
      "1292223596035600384\n",
      "2020-08-08 22:18:08\n",
      "@Kristennetten @PPathole @BernieSanders 🤣🤣\n",
      "1416\n",
      "38\n",
      "========================================\n",
      "2\n",
      "elonmusk\n",
      "1292215145750360065\n",
      "2020-08-08 21:44:33\n",
      "@PPathole @BernieSanders Over time, since we give all employees shares, my ownership is diluted automatically. From the first financing round, where I owned ~60% of Tesla to today at ~20%, it has declined by a factor of 3.\n",
      "2484\n",
      "201\n",
      "========================================\n",
      "3\n",
      "elonmusk\n",
      "1292204554738515968\n",
      "2020-08-08 21:02:28\n",
      "RT @ThePlanetaryGuy: Videos like this will always amaze me...\n",
      "\n",
      "Astronomer Jan Koet captured this video in 2007 of Saturn appearing behind t…\n",
      "0\n",
      "17209\n",
      "========================================\n",
      "4\n",
      "elonmusk\n",
      "1292186775809449985\n",
      "2020-08-08 19:51:49\n",
      "@RationalEtienne @BernieSanders I wonder if he reads his Twitter feed\n",
      "3984\n",
      "133\n",
      "========================================\n",
      "5\n",
      "elonmusk\n",
      "1292184948233969664\n",
      "2020-08-08 19:44:33\n",
      "@BernieSanders And why aim your attacks at Tesla, when we’re doing more than any other company on Earth to advance green/sustainable energy? Have you read the news? https://t.co/34tzBk5TIv\n",
      "17490\n",
      "1734\n",
      "========================================\n"
     ]
    }
   ],
   "source": [
    "i = 1\n",
    "for t in history[-5:]:\n",
    "    print(i)\n",
    "    print(t.author.screen_name)\n",
    "    print(t.id)\n",
    "    print(t.created_at)\n",
    "    print(t.full_text)\n",
    "    print(t.favorite_count)\n",
    "    print(t.retweet_count)\n",
    "    print(\"=\"*40)\n",
    "    i += 1"
   ]
  },
  {
   "cell_type": "markdown",
   "id": "2b114a6c-a337-40c9-8fd9-d1714a72a5c1",
   "metadata": {},
   "source": [
    "## save tweets to file"
   ]
  },
  {
   "cell_type": "code",
   "execution_count": 119,
   "id": "36ea8bf0-bae5-4c0d-82b9-f858eff20e86",
   "metadata": {},
   "outputs": [],
   "source": [
    "import json\n",
    "\n",
    "hjson = list()\n",
    "for t in history:\n",
    "    hjson.append({\n",
    "        \"author\": t.author.screen_name,\n",
    "        \"id\": t.id,\n",
    "        \"created_at\": str(t.created_at),\n",
    "        \"full_text\": t.full_text,\n",
    "        \"favorites\": t.favorite_count,\n",
    "        \"retweets\": t.retweet_count\n",
    "    })\n",
    "\n",
    "f = open(\"elon_tweets.json\", \"w\")\n",
    "json.dump(hjson, f)\n",
    "f.close()"
   ]
  },
  {
   "cell_type": "code",
   "execution_count": null,
   "id": "cab770af-1240-479e-b8e9-1d2ff93345eb",
   "metadata": {},
   "outputs": [],
   "source": []
  }
 ],
 "metadata": {
  "kernelspec": {
   "display_name": "Python 3",
   "language": "python",
   "name": "python3"
  },
  "language_info": {
   "codemirror_mode": {
    "name": "ipython",
    "version": 3
   },
   "file_extension": ".py",
   "mimetype": "text/x-python",
   "name": "python",
   "nbconvert_exporter": "python",
   "pygments_lexer": "ipython3",
   "version": "3.9.4"
  }
 },
 "nbformat": 4,
 "nbformat_minor": 5
}
