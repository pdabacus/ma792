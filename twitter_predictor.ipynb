{
 "cells": [
  {
   "cell_type": "markdown",
   "metadata": {},
   "source": [
    "# MA 792 Final Project\n",
    "# Twitter Predictor\n",
    "---\n",
    "## YOUR_NAME_HERE\n",
    "---\n",
    " * <a href=\"#starter\">Starter Code</a>\n",
    " * <a href=\"#plot1\">Pick Table and Plot</a>\n",
    " * <a href=\"#plot2\">Finite Difference with Model and Plot</a>\n",
    " * <a href=\"#plot3\">Integrate Model and Plot</a>"
   ]
  },
  {
   "cell_type": "markdown",
   "metadata": {},
   "source": [
    "---\n",
    "<a id='starter'></a>\n",
    "## Starter Code\n",
    "---"
   ]
  },
  {
   "cell_type": "code",
   "execution_count": 1,
   "metadata": {},
   "outputs": [
    {
     "name": "stdout",
     "output_type": "stream",
     "text": [
      "using downloaded dataset downloads/imdb.tar.gz\n",
      "extracting imdb dataset to aclImdb/\n",
      "removing unneeded train/unsup directory\n",
      "Large Movie Review Dataset v1.0\n",
      "\n",
      "Overview\n",
      "\n",
      "This dataset contains movie reviews along with their associated binary\n",
      "sentiment polarity labels. It is intended to serve as a benchmark for\n",
      "sentiment classification. This document outlines how the dataset was\n",
      "gathered, and how to use the files provided. \n",
      "\n",
      "Dataset \n",
      "\n",
      "The core dataset contains 50,000 reviews split evenly into 25k train\n",
      "and 25k test sets. The overall distribution of labels is balanced (25k\n",
      "pos and 25k neg). We also include an additional 50,000 unlabeled\n",
      "documents for unsupervised learning. \n",
      "\n",
      "288M\timdb\n",
      "\n",
      "################\n",
      "\n",
      "using downloaded model downloads/glove.6B.zip\n",
      "extracting glove model to glove/\n",
      "Archive:  downloads/glove.6B.zip\n",
      "  inflating: glove/glove.6B.100d.txt  \n",
      "\n",
      "332M\tglove\n",
      "\n",
      "################\n",
      "\n",
      "using downloaded code glove.py\n",
      "\n",
      "################\n",
      "\n",
      "using downloaded code imdb.py\n",
      "\n"
     ]
    }
   ],
   "source": [
    "# download dependencies:\n",
    "#   * glove embedding https://nlp.stanford.edu/projects/glove/\n",
    "#   * 50,000 imdb movie reviews https://ai.stanford.edu/~amaas/data/sentiment/\n",
    "#   * code for parsing the downloaded data\n",
    "#   * pretrained neural network\n",
    "!curl -L \"https://raw.githubusercontent.com/pdabacus/ma792/main/download.sh\" -o \"download.sh\"\n",
    "!bash download.sh"
   ]
  },
  {
   "cell_type": "code",
   "execution_count": 8,
   "metadata": {},
   "outputs": [
    {
     "name": "stdout",
     "output_type": "stream",
     "text": [
      "building word embedding from glove/glove.6B.100d.txt\n",
      "built embedding of 400000 word vectors each of length 100\n",
      "preprocessing reviews from imdb//train/pos\n",
      "[                    ]********************] 12500/12500\n",
      "preprocessing reviews from imdb//test/pos\n",
      "[                    ]********************] 12500/12500\n",
      "preprocessing reviews from imdb//train/neg\n",
      "[                    ]********************] 12500/12500\n",
      "preprocessing reviews from imdb//test/neg\n",
      "[                    ]********************] 12500/12500\n"
     ]
    }
   ],
   "source": [
    "import glove\n",
    "import imdb\n",
    "\n",
    "embedding = glove.GloVe(\"glove/glove.6B.100d.txt\")\n",
    "reviews = imdb.IMDB(\"imdb/\")"
   ]
  },
  {
   "cell_type": "code",
   "execution_count": 18,
   "metadata": {},
   "outputs": [
    {
     "name": "stdout",
     "output_type": "stream",
     "text": [
      "107\n",
      "nice_attempt_good_ideas_redemption_prostitute_human_beings_helping_poor_result_director_obviously_tried_emulate_french_colleague_tran_anh_hung_recreating_ambiance_suppose_portray_viet_nam_problem_viet_nam_long_gone_scent_green_papaya_historical_background_trying_project_kind_ambiance_muffled_sounds_slow_pace_life_modern_days_leaves_feeling_fake_besides_rapidly_creates_sentiment_boredom_outcome_becomes_obvious_can_suppose_action_takes_place_saigon_da_nang_harvey_keitel_exmarine_movie_probably_stationed_war_southern_viet_nam_nobody_people_speak_clip_northern_accent_displayed_actors_seriously_odd_even_bad_vietnamese_speaker_old_poet_leprosyvery_doubtful_disease_people_condition_peasant_girl_can_read_write_elaborate_vietnamese_poetry_even_doubtful\n"
     ]
    },
    {
     "data": {
      "text/plain": [
       "['good', 'song']"
      ]
     },
     "execution_count": 18,
     "metadata": {},
     "output_type": "execute_result"
    }
   ],
   "source": [
    "r = reviews.neg()\n",
    "print(len(r))\n",
    "print((\"_\").join(r))\n",
    "reviews.process(\"this is good song\")"
   ]
  },
  {
   "cell_type": "code",
   "execution_count": null,
   "metadata": {},
   "outputs": [],
   "source": []
  }
 ],
 "metadata": {
  "kernelspec": {
   "display_name": "Python 3",
   "language": "python",
   "name": "python3"
  },
  "language_info": {
   "codemirror_mode": {
    "name": "ipython",
    "version": 3
   },
   "file_extension": ".py",
   "mimetype": "text/x-python",
   "name": "python",
   "nbconvert_exporter": "python",
   "pygments_lexer": "ipython3",
   "version": "3.9.3"
  }
 },
 "nbformat": 4,
 "nbformat_minor": 4
}
