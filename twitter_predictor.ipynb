{
 "cells": [
  {
   "cell_type": "markdown",
   "metadata": {
    "id": "qKL-6jNgsTSa"
   },
   "source": [
    "# MA 792 Final Project\n",
    "# Twitter Predictor\n",
    "---\n",
    "## YOUR_NAME_HERE\n",
    "---\n",
    " * <a href=\"#starter\">Starter Code</a>\n",
    " * <a href=\"#plot1\">Pick Table and Plot</a>\n",
    " * <a href=\"#plot2\">Finite Difference with Model and Plot</a>\n",
    " * <a href=\"#plot3\">Integrate Model and Plot</a>"
   ]
  },
  {
   "cell_type": "markdown",
   "metadata": {
    "id": "4cH5jMHVsTSw"
   },
   "source": [
    "---\n",
    "<a id='starter'></a>\n",
    "## Starter Code\n",
    "---"
   ]
  },
  {
   "cell_type": "code",
   "execution_count": 1,
   "metadata": {
    "colab": {
     "base_uri": "https://localhost:8080/"
    },
    "executionInfo": {
     "elapsed": 184594,
     "status": "ok",
     "timestamp": 1618910899493,
     "user": {
      "displayName": "Pavan Dayal",
      "photoUrl": "https://lh3.googleusercontent.com/a-/AOh14Gjy4rkcpqQTMSXjC2faUXmSImvSus2_qjvQ62c8Hg=s64",
      "userId": "11444668130461239298"
     },
     "user_tz": 360
    },
    "id": "rIE40eG5sTSy",
    "outputId": "97eca0e6-7cc8-4a1c-d59a-209bdad978af"
   },
   "outputs": [
    {
     "name": "stdout",
     "output_type": "stream",
     "text": [
      "  % Total    % Received % Xferd  Average Speed   Time    Time     Time  Current\n",
      "                                 Dload  Upload   Total   Spent    Left  Speed\n",
      "100  3766  100  3766    0     0  31383      0 --:--:-- --:--:-- --:--:-- 31383\n",
      "downloading imdb dataset\n",
      "  % Total    % Received % Xferd  Average Speed   Time    Time     Time  Current\n",
      "                                 Dload  Upload   Total   Spent    Left  Speed\n",
      "100 80.2M  100 80.2M    0     0  17.2M      0  0:00:04  0:00:04 --:--:-- 18.9M\n",
      "extracting imdb dataset to aclImdb/\n",
      "removing unneeded train/unsup directory\n",
      "Large Movie Review Dataset v1.0\n",
      "\n",
      "Overview\n",
      "\n",
      "This dataset contains movie reviews along with their associated binary\n",
      "sentiment polarity labels. It is intended to serve as a benchmark for\n",
      "sentiment classification. This document outlines how the dataset was\n",
      "gathered, and how to use the files provided. \n",
      "\n",
      "Dataset \n",
      "\n",
      "The core dataset contains 50,000 reviews split evenly into 25k train\n",
      "and 25k test sets. The overall distribution of labels is balanced (25k\n",
      "pos and 25k neg). We also include an additional 50,000 unlabeled\n",
      "documents for unsupervised learning. \n",
      "\n",
      "288M\timdb\n",
      "\n",
      "################\n",
      "\n",
      "downloading glove model\n",
      "  % Total    % Received % Xferd  Average Speed   Time    Time     Time  Current\n",
      "                                 Dload  Upload   Total   Spent    Left  Speed\n",
      "  0   308    0     0    0     0      0      0 --:--:-- --:--:-- --:--:--     0\n",
      "  0   345    0     0    0     0      0      0 --:--:-- --:--:-- --:--:--     0\n",
      "100  822M  100  822M    0     0  5126k      0  0:02:44  0:02:44 --:--:-- 5152k\n",
      "extracting glove model to glove/\n",
      "Archive:  downloads/glove.6B.zip\n",
      "  inflating: glove/glove.6B.100d.txt  \n",
      "\n",
      "332M\tglove\n",
      "\n",
      "################\n",
      "\n",
      "downloading code glove.py\n",
      "  % Total    % Received % Xferd  Average Speed   Time    Time     Time  Current\n",
      "                                 Dload  Upload   Total   Spent    Left  Speed\n",
      "100  2495  100  2495    0     0  29352      0 --:--:-- --:--:-- --:--:-- 29352\n",
      "\n",
      "################\n",
      "\n",
      "downloading code imdb.py\n",
      "  % Total    % Received % Xferd  Average Speed   Time    Time     Time  Current\n",
      "                                 Dload  Upload   Total   Spent    Left  Speed\n",
      "100  4863  100  4863    0     0  37407      0 --:--:-- --:--:-- --:--:-- 37407\n",
      "\n",
      "################\n",
      "\n",
      "downloading code rnn.py\n",
      "  % Total    % Received % Xferd  Average Speed   Time    Time     Time  Current\n",
      "                                 Dload  Upload   Total   Spent    Left  Speed\n",
      "100  2893  100  2893    0     0  35280      0 --:--:-- --:--:-- --:--:-- 35280\n",
      "\n",
      "################\n",
      "\n",
      "downloading pytorch model happy_angry_rnn.pt\n",
      "  % Total    % Received % Xferd  Average Speed   Time    Time     Time  Current\n",
      "                                 Dload  Upload   Total   Spent    Left  Speed\n",
      "100   626  100   626    0     0   5131      0 --:--:-- --:--:-- --:--:--  5089\n",
      "100  152M  100  152M    0     0  68.9M      0  0:00:02  0:00:02 --:--:-- 55.7M\n",
      "\n",
      "finished downloading needed data\n"
     ]
    }
   ],
   "source": [
    "# download dependencies:\n",
    "#   * glove embedding (800mb) https://nlp.stanford.edu/projects/glove/\n",
    "#   * 50,000 imdb movie reviews (80mb) https://ai.stanford.edu/~amaas/data/sentiment/\n",
    "#   * code for parsing the downloaded data\n",
    "#   * pretrained neural network\n",
    "!curl -L \"https://raw.githubusercontent.com/pdabacus/ma792/main/download.sh\" -o \"download.sh\"\n",
    "!bash download.sh"
   ]
  },
  {
   "cell_type": "markdown",
   "metadata": {
    "id": "ZV7JxBg0VxAl"
   },
   "source": [
    "## Load Recurrent Neural Net"
   ]
  },
  {
   "cell_type": "code",
   "execution_count": 2,
   "metadata": {
    "colab": {
     "base_uri": "https://localhost:8080/"
    },
    "executionInfo": {
     "elapsed": 198859,
     "status": "ok",
     "timestamp": 1618910913790,
     "user": {
      "displayName": "Pavan Dayal",
      "photoUrl": "https://lh3.googleusercontent.com/a-/AOh14Gjy4rkcpqQTMSXjC2faUXmSImvSus2_qjvQ62c8Hg=s64",
      "userId": "11444668130461239298"
     },
     "user_tz": 360
    },
    "id": "Ir46CiY9sTS1",
    "outputId": "c658e4b2-49d5-43e6-a9aa-2b10b42508b4"
   },
   "outputs": [
    {
     "name": "stdout",
     "output_type": "stream",
     "text": [
      "building word embedding from glove/glove.6B.100d.txt\n",
      "built embedding of 400000 word vectors each of length 100\n"
     ]
    },
    {
     "data": {
      "text/plain": [
       "HappyAngryRNN(\n",
       "  (embedding): Embedding(400000, 100, padding_idx=0)\n",
       "  (lstm): LSTM(100, 32, num_layers=2, batch_first=True, dropout=0.2, bidirectional=True)\n",
       "  (fc): Linear(in_features=64, out_features=2, bias=True)\n",
       "  (sig): Sigmoid()\n",
       ")"
      ]
     },
     "execution_count": 2,
     "metadata": {
      "tags": []
     },
     "output_type": "execute_result"
    }
   ],
   "source": [
    "import matplotlib.pyplot as plt\n",
    "import numpy as np\n",
    "import torch\n",
    "\n",
    "import glove\n",
    "import rnn\n",
    "\n",
    "glove_embedding = glove.GloVe(\"glove/glove.6B.100d.txt\")\n",
    "output_dim = 2\n",
    "\n",
    "#instantiate the model\n",
    "model = rnn.HappyAngryRNN(\n",
    "    rnn.hyperparams[\"review_length\"],\n",
    "    glove_embedding,\n",
    "    rnn.hyperparams[\"lstm_hiddin_dim\"],\n",
    "    rnn.hyperparams[\"lstm_layers\"], \n",
    "    rnn.hyperparams[\"lstm_dropout\"],\n",
    "    output_dim\n",
    ")\n",
    "\n",
    "# load model weights\n",
    "model.load_state_dict(torch.load(\"happy_angry_rnn.pt\"))\n",
    "model.eval()"
   ]
  },
  {
   "cell_type": "markdown",
   "metadata": {
    "id": "d8OB5nbCU6rE"
   },
   "source": [
    "## Use RNN to predict sentiment"
   ]
  },
  {
   "cell_type": "code",
   "execution_count": 3,
   "metadata": {
    "colab": {
     "base_uri": "https://localhost:8080/"
    },
    "executionInfo": {
     "elapsed": 199054,
     "status": "ok",
     "timestamp": 1618910914002,
     "user": {
      "displayName": "Pavan Dayal",
      "photoUrl": "https://lh3.googleusercontent.com/a-/AOh14Gjy4rkcpqQTMSXjC2faUXmSImvSus2_qjvQ62c8Hg=s64",
      "userId": "11444668130461239298"
     },
     "user_tz": 360
    },
    "id": "tpy4TiXm7utn",
    "outputId": "af3c8eb7-2122-422a-de3e-f15576e7c987"
   },
   "outputs": [
    {
     "data": {
      "text/plain": [
       "{'negative': 0.3315228223800659, 'positive': 0.6869490146636963}"
      ]
     },
     "execution_count": 3,
     "metadata": {
      "tags": []
     },
     "output_type": "execute_result"
    }
   ],
   "source": [
    "# use model to make predictions\n",
    "model.predict(\"this song is very good i would listen again\")"
   ]
  },
  {
   "cell_type": "code",
   "execution_count": 5,
   "metadata": {
    "executionInfo": {
     "elapsed": 636,
     "status": "ok",
     "timestamp": 1618911077739,
     "user": {
      "displayName": "Pavan Dayal",
      "photoUrl": "https://lh3.googleusercontent.com/a-/AOh14Gjy4rkcpqQTMSXjC2faUXmSImvSus2_qjvQ62c8Hg=s64",
      "userId": "11444668130461239298"
     },
     "user_tz": 360
    },
    "id": "NQ3V2uRXLPQc"
   },
   "outputs": [],
   "source": []
  },
  {
   "cell_type": "code",
   "execution_count": null,
   "metadata": {
    "id": "mqTcRGG9nLfc"
   },
   "outputs": [],
   "source": []
  }
 ],
 "metadata": {
  "colab": {
   "collapsed_sections": [],
   "name": "twitter_predictor.ipynb",
   "provenance": [],
   "toc_visible": true
  },
  "kernelspec": {
   "display_name": "Python 3",
   "language": "python",
   "name": "python3"
  },
  "language_info": {
   "codemirror_mode": {
    "name": "ipython",
    "version": 3
   },
   "file_extension": ".py",
   "mimetype": "text/x-python",
   "name": "python",
   "nbconvert_exporter": "python",
   "pygments_lexer": "ipython3",
   "version": "3.9.3"
  }
 },
 "nbformat": 4,
 "nbformat_minor": 4
}
