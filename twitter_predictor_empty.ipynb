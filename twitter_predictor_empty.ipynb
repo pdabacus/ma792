{
 "cells": [
  {
   "cell_type": "markdown",
   "metadata": {
    "id": "qKL-6jNgsTSa"
   },
   "source": [
    "# MA 792 Final Project\n",
    "# Twitter Predictor\n",
    "---\n",
    "## YOUR_NAME_HERE\n",
    "---\n",
    " * <a href=\"#starter\">Starter Code</a>\n",
    " * <a href=\"#task1\">Filter out unpopular tweets</a>\n",
    " * <a href=\"#task2\">Calculate the sentiment of each tweet and plot</a>\n",
    " * <a href=\"#task3\">For each week, calculate average stock price deltas</a>\n",
    " * <a href=\"#task4\">For each week, calculate average tweet positivity</a>\n",
    " * <a href=\"#task5\">Calculate correlation between tweet positivity and stock prices</a>\n"
   ]
  },
  {
   "cell_type": "markdown",
   "metadata": {
    "id": "4cH5jMHVsTSw"
   },
   "source": [
    "---\n",
    "<a id='starter'></a>\n",
    "## Starter Code\n",
    "---"
   ]
  },
  {
   "cell_type": "code",
   "execution_count": 9,
   "metadata": {
    "colab": {
     "base_uri": "https://localhost:8080/"
    },
    "executionInfo": {
     "elapsed": 14220,
     "status": "ok",
     "timestamp": 1619511154243,
     "user": {
      "displayName": "Pavan Dayal",
      "photoUrl": "https://lh3.googleusercontent.com/a-/AOh14Gjy4rkcpqQTMSXjC2faUXmSImvSus2_qjvQ62c8Hg=s64",
      "userId": "11444668130461239298"
     },
     "user_tz": 360
    },
    "id": "rIE40eG5sTSy",
    "outputId": "bb24d222-f9b4-4c36-cca2-29776230353b"
   },
   "outputs": [
    {
     "name": "stdout",
     "output_type": "stream",
     "text": [
      "  % Total    % Received % Xferd  Average Speed   Time    Time     Time  Current\n",
      "                                 Dload  Upload   Total   Spent    Left  Speed\n",
      "100  5028  100  5028    0     0   125k      0 --:--:-- --:--:-- --:--:--  125k\n",
      "using downloaded dataset downloads/imdb.tar.gz\n",
      "extracting imdb dataset to aclImdb/\n",
      "removing unneeded train/unsup directory\n",
      "Large Movie Review Dataset v1.0\n",
      "\n",
      "Overview\n",
      "\n",
      "This dataset contains movie reviews along with their associated binary\n",
      "sentiment polarity labels. It is intended to serve as a benchmark for\n",
      "sentiment classification. This document outlines how the dataset was\n",
      "gathered, and how to use the files provided. \n",
      "\n",
      "Dataset \n",
      "\n",
      "The core dataset contains 50,000 reviews split evenly into 25k train\n",
      "and 25k test sets. The overall distribution of labels is balanced (25k\n",
      "pos and 25k neg). We also include an additional 50,000 unlabeled\n",
      "documents for unsupervised learning. \n",
      "\n",
      "288M\timdb\n",
      "\n",
      "################\n",
      "\n",
      "using downloaded model downloads/glove.6B.100d.txt.gz\n",
      "extracting glove model to glove/\n",
      "\n",
      "332M\tglove\n",
      "\n",
      "################\n",
      "\n",
      "using downloaded code glove.py\n",
      "\n",
      "################\n",
      "\n",
      "using downloaded code imdb.py\n",
      "\n",
      "################\n",
      "\n",
      "using downloaded code rnn.py\n",
      "\n",
      "################\n",
      "\n",
      "using downloaded pytorch model happy_angry_rnn.pt\n",
      "\n",
      "################\n",
      "\n",
      "using downloaded tweets elon_tweets.json\n",
      "\n",
      "################\n",
      "\n",
      "downloading tsla prices tsla_doge_prices.json\n",
      "  % Total    % Received % Xferd  Average Speed   Time    Time     Time  Current\n",
      "                                 Dload  Upload   Total   Spent    Left  Speed\n",
      "100 27584  100 27584    0     0   132k      0 --:--:-- --:--:-- --:--:--  132k\n",
      "\n",
      "finished downloading needed data\n"
     ]
    }
   ],
   "source": [
    "# download dependencies:\n",
    "#   * 50,000 imdb movie reviews (80mb) https://ai.stanford.edu/~amaas/data/sentiment/\n",
    "#   * glove embedding (130mb) https://nlp.stanford.edu/projects/glove/\n",
    "#   * code for parsing the downloaded data\n",
    "#   * pretrained neural network (160mb)\n",
    "#   * tweets from elon musk\n",
    "#   * tsla and doge stock data\n",
    "\n",
    "!curl -L \"https://raw.githubusercontent.com/pdabacus/ma792/main/download.sh\" -o \"download.sh\"\n",
    "!bash download.sh"
   ]
  },
  {
   "cell_type": "markdown",
   "metadata": {
    "id": "ZV7JxBg0VxAl"
   },
   "source": [
    "## Load Recurrent Neural Net"
   ]
  },
  {
   "cell_type": "code",
   "execution_count": 5,
   "metadata": {
    "colab": {
     "base_uri": "https://localhost:8080/"
    },
    "executionInfo": {
     "elapsed": 12390,
     "status": "ok",
     "timestamp": 1619511035540,
     "user": {
      "displayName": "Pavan Dayal",
      "photoUrl": "https://lh3.googleusercontent.com/a-/AOh14Gjy4rkcpqQTMSXjC2faUXmSImvSus2_qjvQ62c8Hg=s64",
      "userId": "11444668130461239298"
     },
     "user_tz": 360
    },
    "id": "Ir46CiY9sTS1",
    "outputId": "66877f6f-64d6-4ab2-9886-5b5b9b74c696"
   },
   "outputs": [
    {
     "name": "stdout",
     "output_type": "stream",
     "text": [
      "building word embedding from glove/glove.6B.100d.txt\n",
      "built embedding of 400000 word vectors each of length 100\n"
     ]
    },
    {
     "data": {
      "text/plain": [
       "HappyAngryRNN(\n",
       "  (embedding): Embedding(400000, 100, padding_idx=0)\n",
       "  (lstm): LSTM(100, 32, num_layers=2, batch_first=True, dropout=0.2, bidirectional=True)\n",
       "  (fc): Linear(in_features=64, out_features=2, bias=True)\n",
       "  (sig): Sigmoid()\n",
       ")"
      ]
     },
     "execution_count": 5,
     "metadata": {
      "tags": []
     },
     "output_type": "execute_result"
    }
   ],
   "source": [
    "import matplotlib.pyplot as plt\n",
    "import numpy as np\n",
    "import json\n",
    "import datetime\n",
    "import torch\n",
    "\n",
    "import glove\n",
    "import rnn\n",
    "\n",
    "glove_embedding = glove.GloVe(\"glove/glove.6B.100d.txt\")\n",
    "output_dim = 2\n",
    "\n",
    "#instantiate the model\n",
    "model = rnn.HappyAngryRNN(\n",
    "    rnn.hyperparams[\"review_length\"],\n",
    "    glove_embedding,\n",
    "    rnn.hyperparams[\"lstm_hiddin_dim\"],\n",
    "    rnn.hyperparams[\"lstm_layers\"], \n",
    "    rnn.hyperparams[\"lstm_dropout\"],\n",
    "    output_dim\n",
    ")\n",
    "\n",
    "# load model weights\n",
    "model.load_state_dict(torch.load(\"happy_angry_rnn.pt\"))\n",
    "model.eval()"
   ]
  },
  {
   "cell_type": "markdown",
   "metadata": {
    "id": "d8OB5nbCU6rE"
   },
   "source": [
    "## Use RNN to predict sentiment"
   ]
  },
  {
   "cell_type": "code",
   "execution_count": 8,
   "metadata": {
    "colab": {
     "base_uri": "https://localhost:8080/"
    },
    "executionInfo": {
     "elapsed": 575,
     "status": "ok",
     "timestamp": 1619511077457,
     "user": {
      "displayName": "Pavan Dayal",
      "photoUrl": "https://lh3.googleusercontent.com/a-/AOh14Gjy4rkcpqQTMSXjC2faUXmSImvSus2_qjvQ62c8Hg=s64",
      "userId": "11444668130461239298"
     },
     "user_tz": 360
    },
    "id": "tpy4TiXm7utn",
    "outputId": "2158113c-4ee1-4e8c-cd0e-97b1c181a1e7"
   },
   "outputs": [
    {
     "data": {
      "text/plain": [
       "{'negative': 0.9515218138694763, 'positive': 0.04995137080550194}"
      ]
     },
     "execution_count": 8,
     "metadata": {
      "tags": []
     },
     "output_type": "execute_result"
    }
   ],
   "source": [
    "# use model to make predictions\n",
    "s = \"i will fail this class. i dont know anything about python. this is terrible\"\n",
    "model.predict(s)"
   ]
  },
  {
   "cell_type": "markdown",
   "metadata": {
    "id": "AReMzdCUY4C_"
   },
   "source": [
    "## Load Tweets"
   ]
  },
  {
   "cell_type": "code",
   "execution_count": 16,
   "metadata": {
    "colab": {
     "base_uri": "https://localhost:8080/"
    },
    "executionInfo": {
     "elapsed": 335,
     "status": "ok",
     "timestamp": 1619511487331,
     "user": {
      "displayName": "Pavan Dayal",
      "photoUrl": "https://lh3.googleusercontent.com/a-/AOh14Gjy4rkcpqQTMSXjC2faUXmSImvSus2_qjvQ62c8Hg=s64",
      "userId": "11444668130461239298"
     },
     "user_tz": 360
    },
    "id": "mqTcRGG9nLfc",
    "outputId": "90cfa372-c7eb-4542-ee98-6ebdba2d34de"
   },
   "outputs": [
    {
     "name": "stdout",
     "output_type": "stream",
     "text": [
      "tweets loaded: 3249\n"
     ]
    }
   ],
   "source": [
    "with open(\"elon_tweets.json\", \"r\") as f:\n",
    "    tweets = json.load(f)\n",
    "\n",
    "print(\"tweets loaded: %d\" % len(tweets))\n"
   ]
  },
  {
   "cell_type": "code",
   "execution_count": 14,
   "metadata": {
    "colab": {
     "base_uri": "https://localhost:8080/"
    },
    "executionInfo": {
     "elapsed": 301,
     "status": "ok",
     "timestamp": 1619511423899,
     "user": {
      "displayName": "Pavan Dayal",
      "photoUrl": "https://lh3.googleusercontent.com/a-/AOh14Gjy4rkcpqQTMSXjC2faUXmSImvSus2_qjvQ62c8Hg=s64",
      "userId": "11444668130461239298"
     },
     "user_tz": 360
    },
    "id": "7eVxQE68ZOtK",
    "outputId": "85dbf19f-fac2-4464-e78f-90da6d77fa68"
   },
   "outputs": [
    {
     "name": "stdout",
     "output_type": "stream",
     "text": [
      "elonmusk\n",
      "1259159878427267000\n",
      "2020-05-09 16:34:43\n",
      "@GerberKawasaki @thirdrowtesla Tesla is filing a lawsuit against Alameda County immediately. The unelected &amp; ignorant “Interim Health Officer” of Alameda is acting contrary to the Governor, the President, our Constitutional freedoms &amp; just plain common sense!\n",
      "24902\n",
      "4043\n"
     ]
    }
   ],
   "source": [
    "t = tweets[-3]\n",
    "print(t[\"author\"])\n",
    "print(t[\"id\"])\n",
    "print(t[\"created_at\"])\n",
    "print(t[\"full_text\"])\n",
    "print(t[\"favorites\"])\n",
    "print(t[\"retweets\"])"
   ]
  },
  {
   "cell_type": "code",
   "execution_count": 15,
   "metadata": {
    "colab": {
     "base_uri": "https://localhost:8080/"
    },
    "executionInfo": {
     "elapsed": 451,
     "status": "ok",
     "timestamp": 1619511437924,
     "user": {
      "displayName": "Pavan Dayal",
      "photoUrl": "https://lh3.googleusercontent.com/a-/AOh14Gjy4rkcpqQTMSXjC2faUXmSImvSus2_qjvQ62c8Hg=s64",
      "userId": "11444668130461239298"
     },
     "user_tz": 360
    },
    "id": "jMsaHqefZRfH",
    "outputId": "4f05ecc8-e0f5-42ee-e5c9-f5eadac25bb8"
   },
   "outputs": [
    {
     "data": {
      "text/plain": [
       "{'negative': 0.6506819128990173, 'positive': 0.36988040804862976}"
      ]
     },
     "execution_count": 15,
     "metadata": {
      "tags": []
     },
     "output_type": "execute_result"
    }
   ],
   "source": [
    "model.predict(t[\"full_text\"])"
   ]
  },
  {
   "cell_type": "markdown",
   "metadata": {
    "id": "rFR_D77IaIVF"
   },
   "source": [
    "## Load Stock Data"
   ]
  },
  {
   "cell_type": "code",
   "execution_count": 20,
   "metadata": {
    "colab": {
     "base_uri": "https://localhost:8080/"
    },
    "executionInfo": {
     "elapsed": 448,
     "status": "ok",
     "timestamp": 1619511822395,
     "user": {
      "displayName": "Pavan Dayal",
      "photoUrl": "https://lh3.googleusercontent.com/a-/AOh14Gjy4rkcpqQTMSXjC2faUXmSImvSus2_qjvQ62c8Hg=s64",
      "userId": "11444668130461239298"
     },
     "user_tz": 360
    },
    "id": "I1Zo0fs2aI-6",
    "outputId": "acd3d0cd-4ce4-4106-9529-5184df7de595"
   },
   "outputs": [
    {
     "name": "stdout",
     "output_type": "stream",
     "text": [
      "data loaded: 248 prices for ['TSLA', 'X:DOGEUSD']\n"
     ]
    }
   ],
   "source": [
    "with open(\"tsla_doge_prices.json\", \"r\") as f:\n",
    "    stocks = json.load(f)\n",
    "\n",
    "tickers = list(stocks.keys())\n",
    "print(\"data loaded: %d prices for %s\" % (stocks[tickers[0]][\"n\"], tickers))"
   ]
  },
  {
   "cell_type": "code",
   "execution_count": 27,
   "metadata": {
    "colab": {
     "base_uri": "https://localhost:8080/",
     "height": 281
    },
    "executionInfo": {
     "elapsed": 516,
     "status": "ok",
     "timestamp": 1619512205569,
     "user": {
      "displayName": "Pavan Dayal",
      "photoUrl": "https://lh3.googleusercontent.com/a-/AOh14Gjy4rkcpqQTMSXjC2faUXmSImvSus2_qjvQ62c8Hg=s64",
      "userId": "11444668130461239298"
     },
     "user_tz": 360
    },
    "id": "jkapqnhaa28F",
    "outputId": "a12a657a-3297-4cf8-9085-c09272cfd5c4"
   },
   "outputs": [
    {
     "data": {
      "image/png": "[encoded data removed]",
      "text/plain": [
       "<Figure size 432x288 with 1 Axes>"
      ]
     },
     "metadata": {
      "needs_background": "light",
      "tags": []
     },
     "output_type": "display_data"
    }
   ],
   "source": [
    "ticker = tickers[0]\n",
    "n = stocks[ticker][\"n\"]\n",
    "days = stocks[ticker][\"times\"]\n",
    "prices = stocks[ticker][\"prices\"]\n",
    "\n",
    "times = [datetime.datetime.strptime(t, \"%Y-%m-%d %H:%M:%S\") for t in days]\n",
    "\n",
    "plt.plot(times, prices)\n",
    "plt.title(ticker)\n",
    "plt.show()"
   ]
  },
  {
   "cell_type": "markdown",
   "metadata": {
    "id": "BZpjxkY5gDxT"
   },
   "source": [
    "---\n",
    "<a id='task1'></a>\n",
    "## Filter out unpopular tweets\n",
    "---"
   ]
  },
  {
   "cell_type": "markdown",
   "metadata": {
    "id": "6bpq8wfbg1XG"
   },
   "source": [
    "* create a histogram of the number of favorites and the number of retweets\n",
    "* keep only the top 300 based on either retweets or favorites\n",
    "\n"
   ]
  },
  {
   "cell_type": "code",
   "execution_count": 46,
   "metadata": {
    "colab": {
     "base_uri": "https://localhost:8080/",
     "height": 532
    },
    "executionInfo": {
     "elapsed": 805,
     "status": "ok",
     "timestamp": 1619513795386,
     "user": {
      "displayName": "Pavan Dayal",
      "photoUrl": "https://lh3.googleusercontent.com/a-/AOh14Gjy4rkcpqQTMSXjC2faUXmSImvSus2_qjvQ62c8Hg=s64",
      "userId": "11444668130461239298"
     },
     "user_tz": 360
    },
    "id": "_-J7kACdcBh9",
    "outputId": "44f5fce1-a48c-4186-8754-a49f55da06a7"
   },
   "outputs": [
    {
     "name": "stdout",
     "output_type": "stream",
     "text": [
      "number of tweets: 3249\n"
     ]
    },
    {
     "data": {
      "image/png": "[encoded data removed]",
      "text/plain": [
       "<Figure size 432x288 with 1 Axes>"
      ]
     },
     "metadata": {
      "needs_background": "light",
      "tags": []
     },
     "output_type": "display_data"
    },
    {
     "data": {
      "image/png": "[encoded data removed]",
      "text/plain": [
       "<Figure size 432x288 with 1 Axes>"
      ]
     },
     "metadata": {
      "needs_background": "light",
      "tags": []
     },
     "output_type": "display_data"
    }
   ],
   "source": [
    "print(\"number of tweets:\", len(tweets))\n",
    "\n",
    "# to plot histograms use plt.hist()\n",
    "# https://matplotlib.org/stable/api/_as_gen/matplotlib.pyplot.hist.html\n",
    "\n",
    "# plot the distribution of \"favorites\"\n",
    "plt.hist()\n",
    "\n",
    "# plot the distribution of \"retweets\"\n",
    "plt.hist()\n"
   ]
  },
  {
   "cell_type": "code",
   "execution_count": 56,
   "metadata": {
    "colab": {
     "base_uri": "https://localhost:8080/",
     "height": 545
    },
    "executionInfo": {
     "elapsed": 802,
     "status": "ok",
     "timestamp": 1619514192752,
     "user": {
      "displayName": "Pavan Dayal",
      "photoUrl": "https://lh3.googleusercontent.com/a-/AOh14Gjy4rkcpqQTMSXjC2faUXmSImvSus2_qjvQ62c8Hg=s64",
      "userId": "11444668130461239298"
     },
     "user_tz": 360
    },
    "id": "qtg51P3Ag0y6",
    "outputId": "eff4202b-7fd8-4a5e-913d-38272c2abf74"
   },
   "outputs": [
    {
     "name": "stdout",
     "output_type": "stream",
     "text": [
      "number of popular tweets: 352\n"
     ]
    },
    {
     "data": {
      "image/png": "[encoded data removed]",
      "text/plain": [
       "<Figure size 432x288 with 1 Axes>"
      ]
     },
     "metadata": {
      "needs_background": "light",
      "tags": []
     },
     "output_type": "display_data"
    },
    {
     "data": {
      "image/png": "[encoded data removed]",
      "text/plain": [
       "<Figure size 432x288 with 1 Axes>"
      ]
     },
     "metadata": {
      "needs_background": "light",
      "tags": []
     },
     "output_type": "display_data"
    }
   ],
   "source": [
    "popular_tweets = list()\n",
    "\n",
    "# filter out tweets using either the number of retweets or favorites\n",
    "# so that the total number of tweets is 300\n",
    "\n",
    "\n",
    "\n",
    "\n",
    "\n",
    "\n",
    "print(\"number of popular tweets:\", len(popular_tweets))\n",
    "\n",
    "# show histograms for the 300 popular tweets \"number of favorites\"\n",
    "plt.hist()\n",
    "\n",
    "# show histograms for the 300 popular tweets \"retweets count\"\n",
    "plt.hist()"
   ]
  },
  {
   "cell_type": "code",
   "execution_count": null,
   "metadata": {
    "id": "WFqd7qYJjQ-Q"
   },
   "outputs": [],
   "source": []
  },
  {
   "cell_type": "markdown",
   "metadata": {
    "id": "WMDFXv0ckkTt"
   },
   "source": [
    "---\n",
    "<a id='task2'></a>\n",
    "## Calculate the sentiment of each tweet and plot\n",
    "---"
   ]
  },
  {
   "cell_type": "markdown",
   "metadata": {
    "id": "yyjvob1Hkm-n"
   },
   "source": [
    "* plot the sentiment of the popular tweets over time using the RNN\n",
    "* remove the tweets that are between -0.2 and 0.2 positivity\n",
    "* print out 5 popular positive tweets and 5 popular negative tweets\n",
    "\n"
   ]
  },
  {
   "cell_type": "code",
   "execution_count": 116,
   "metadata": {
    "executionInfo": {
     "elapsed": 48462,
     "status": "ok",
     "timestamp": 1619517363990,
     "user": {
      "displayName": "Pavan Dayal",
      "photoUrl": "https://lh3.googleusercontent.com/a-/AOh14Gjy4rkcpqQTMSXjC2faUXmSImvSus2_qjvQ62c8Hg=s64",
      "userId": "11444668130461239298"
     },
     "user_tz": 360
    },
    "id": "iCujQSmfk2DN"
   },
   "outputs": [],
   "source": [
    "sentiments = list()\n",
    "\n",
    "# for each popular tweet, calculate the sentiment using model.predict(sentence)\n",
    "# note: may take a few min to calculate\n",
    "\n",
    "\n",
    "\n",
    "\n",
    "# you must convert the sentiment dictionary for each tweet to a float between -0.5 and 0.5\n",
    "# ex: {\"positive\": 0.9, \"negative\": 0.1}    ->    0.4\n",
    "# ex: {\"positive\": 0.3, \"negative\": 0.7}    ->   -0.2\n",
    "\n",
    "\n",
    "\n",
    "\n"
   ]
  },
  {
   "cell_type": "code",
   "execution_count": 117,
   "metadata": {
    "colab": {
     "base_uri": "https://localhost:8080/",
     "height": 281
    },
    "executionInfo": {
     "elapsed": 675,
     "status": "ok",
     "timestamp": 1619517372666,
     "user": {
      "displayName": "Pavan Dayal",
      "photoUrl": "https://lh3.googleusercontent.com/a-/AOh14Gjy4rkcpqQTMSXjC2faUXmSImvSus2_qjvQ62c8Hg=s64",
      "userId": "11444668130461239298"
     },
     "user_tz": 360
    },
    "id": "8hAgKO2nlR-4",
    "outputId": "1b1a20b4-8b8a-45f5-cfbf-889bfe095854"
   },
   "outputs": [
    {
     "data": {
      "image/png": "[encoded data removed]",
      "text/plain": [
       "<Figure size 432x288 with 1 Axes>"
      ]
     },
     "metadata": {
      "needs_background": "light",
      "tags": []
     },
     "output_type": "display_data"
    }
   ],
   "source": [
    "# plot the sentiments over time using plt.scatter()\n",
    "# https://matplotlib.org/stable/api/_as_gen/matplotlib.pyplot.scatter.html\n",
    "\n",
    "\n",
    "\n",
    "\n",
    "plt.scatter()\n",
    "\n",
    "\n",
    "\n"
   ]
  },
  {
   "cell_type": "code",
   "execution_count": 118,
   "metadata": {
    "colab": {
     "base_uri": "https://localhost:8080/"
    },
    "executionInfo": {
     "elapsed": 310,
     "status": "ok",
     "timestamp": 1619517415351,
     "user": {
      "displayName": "Pavan Dayal",
      "photoUrl": "https://lh3.googleusercontent.com/a-/AOh14Gjy4rkcpqQTMSXjC2faUXmSImvSus2_qjvQ62c8Hg=s64",
      "userId": "11444668130461239298"
     },
     "user_tz": 360
    },
    "id": "2XRpxwcpliQL",
    "outputId": "e0146405-f74d-40fd-f415-f5b74f38f565"
   },
   "outputs": [
    {
     "name": "stdout",
     "output_type": "stream",
     "text": [
      "number of extreme, popular tweets: 155\n"
     ]
    }
   ],
   "source": [
    "extreme_tweets = list()\n",
    "extreme_sentiments = list()\n",
    "\n",
    "# remove the tweets that are between -0.1 and 0.1 positivity\n",
    "# save those tweets and corresponding sentiments\n",
    "\n",
    "\n",
    "\n",
    "\n",
    "\n",
    "\n",
    "print(\"number of extreme, popular tweets:\", len(extreme_tweets))"
   ]
  },
  {
   "cell_type": "code",
   "execution_count": 119,
   "metadata": {
    "colab": {
     "base_uri": "https://localhost:8080/",
     "height": 281
    },
    "executionInfo": {
     "elapsed": 888,
     "status": "ok",
     "timestamp": 1619517416993,
     "user": {
      "displayName": "Pavan Dayal",
      "photoUrl": "https://lh3.googleusercontent.com/a-/AOh14Gjy4rkcpqQTMSXjC2faUXmSImvSus2_qjvQ62c8Hg=s64",
      "userId": "11444668130461239298"
     },
     "user_tz": 360
    },
    "id": "0I9_3XfJm0XV",
    "outputId": "e53c496c-79d7-41eb-a2a0-f953fe2f8f9d"
   },
   "outputs": [
    {
     "data": {
      "image/png": "[encoded data removed]",
      "text/plain": [
       "<Figure size 432x288 with 1 Axes>"
      ]
     },
     "metadata": {
      "needs_background": "light",
      "tags": []
     },
     "output_type": "display_data"
    }
   ],
   "source": [
    "# replot the tweets\n",
    "plt.scatter()"
   ]
  },
  {
   "cell_type": "code",
   "execution_count": 120,
   "metadata": {
    "colab": {
     "base_uri": "https://localhost:8080/"
    },
    "executionInfo": {
     "elapsed": 335,
     "status": "ok",
     "timestamp": 1619517425303,
     "user": {
      "displayName": "Pavan Dayal",
      "photoUrl": "https://lh3.googleusercontent.com/a-/AOh14Gjy4rkcpqQTMSXjC2faUXmSImvSus2_qjvQ62c8Hg=s64",
      "userId": "11444668130461239298"
     },
     "user_tz": 360
    },
    "id": "HTbqxnY4nPWK",
    "outputId": "22dd39ea-517d-499a-bb91-7ee593ee5b45"
   },
   "outputs": [
    {
     "name": "stdout",
     "output_type": "stream",
     "text": [
      "positive tweets:\n",
      "########################################\n",
      "2021-04-24 08:55:19\n",
      "define … beauty\n",
      "########################################\n",
      "2021-04-22 20:57:44\n",
      "🌍🌎🌏 Happy Earth Day 🌍🌎🌏\n",
      "########################################\n",
      "2021-04-14 21:57:08\n",
      "Tesla AI/Autopilot engineering is awesome! Making excellent progress solving real-world AI.\n",
      "########################################\n",
      "2021-04-11 12:23:49\n",
      "The art In Cyberpunk is incredible\n",
      "########################################\n",
      "2021-04-09 22:24:01\n",
      "It’s all about the cufflinks https://t.co/elccqC0Zuf\n",
      "########################################\n",
      "\n",
      "\n",
      "\n",
      "\n",
      "negative tweets:\n",
      "########################################\n",
      "2021-04-01 10:25:23\n",
      "SpaceX is going to put a literal Dogecoin on the literal moon\n",
      "########################################\n",
      "2021-03-21 05:31:31\n",
      "@cleantechnica I am accumulating resources to help make life multiplanetary &amp; extend the light of consciousness to the stars\n",
      "########################################\n",
      "2021-03-12 18:58:22\n",
      "BTC (Bitcoin) is an anagram of\n",
      "TBC(The Boring Company)\n",
      "What a coincidence!\n",
      "########################################\n",
      "2021-02-20 20:52:56\n",
      "Heard a rumor some crypto coin was pegging the dollar 🤣🤣\n",
      "########################################\n",
      "2021-02-15 10:05:59\n",
      "I will literally pay actual $ if they just void their accounts\n",
      "########################################\n"
     ]
    }
   ],
   "source": [
    "# print out 5 popular positive tweets and 5 popular negative tweets\n",
    "\n",
    "\n",
    "\n",
    "\n",
    "\n",
    "\n",
    "\n",
    "\n",
    "\n",
    "\n",
    "\n",
    "\n",
    "\n",
    "\n",
    "    "
   ]
  },
  {
   "cell_type": "markdown",
   "metadata": {
    "id": "uMEJwWTIp-jy"
   },
   "source": [
    "---\n",
    "<a id='task3'></a>\n",
    "## For each fortnight (14 days), calculate average stock price deltas\n",
    "---"
   ]
  },
  {
   "cell_type": "markdown",
   "metadata": {
    "id": "YHl8cCN5tglf"
   },
   "source": [
    "* calculate the average stock price during 2 week intervals and plot\n",
    "* calculate the average percent change of these prices between intervals\n",
    "\n"
   ]
  },
  {
   "cell_type": "code",
   "execution_count": 105,
   "metadata": {
    "colab": {
     "base_uri": "https://localhost:8080/",
     "height": 265
    },
    "executionInfo": {
     "elapsed": 472,
     "status": "ok",
     "timestamp": 1619516542881,
     "user": {
      "displayName": "Pavan Dayal",
      "photoUrl": "https://lh3.googleusercontent.com/a-/AOh14Gjy4rkcpqQTMSXjC2faUXmSImvSus2_qjvQ62c8Hg=s64",
      "userId": "11444668130461239298"
     },
     "user_tz": 360
    },
    "id": "SUB8QpVAqf88",
    "outputId": "32f98dbe-502b-4738-8ad3-823f7df11d16"
   },
   "outputs": [
    {
     "data": {
      "image/png": "[encoded data removed]",
      "text/plain": [
       "<Figure size 432x288 with 1 Axes>"
      ]
     },
     "metadata": {
      "needs_background": "light",
      "tags": []
     },
     "output_type": "display_data"
    }
   ],
   "source": [
    "ticker = \n",
    "times = stocks[ticker][\"times\"]\n",
    "prices = stocks[ticker][\"prices\"]\n",
    "\n",
    "dt = datetime.timedelta(days=14)\n",
    "t = times[0]\n",
    "\n",
    "# for the chosen ticker, calculate the average price for 14 day periods\n",
    "\n",
    "\n",
    "\n",
    "\n",
    "\n",
    "\n",
    "# plot\n",
    "\n",
    "\n",
    "\n",
    "\n",
    "\n"
   ]
  },
  {
   "cell_type": "code",
   "execution_count": 114,
   "metadata": {
    "colab": {
     "base_uri": "https://localhost:8080/",
     "height": 265
    },
    "executionInfo": {
     "elapsed": 551,
     "status": "ok",
     "timestamp": 1619517203033,
     "user": {
      "displayName": "Pavan Dayal",
      "photoUrl": "https://lh3.googleusercontent.com/a-/AOh14Gjy4rkcpqQTMSXjC2faUXmSImvSus2_qjvQ62c8Hg=s64",
      "userId": "11444668130461239298"
     },
     "user_tz": 360
    },
    "id": "GZr3dvr-q11L",
    "outputId": "f1b0dfc3-48b1-4432-af4f-3d186e3aacf0"
   },
   "outputs": [
    {
     "data": {
      "image/png": "[encoded data removed]",
      "text/plain": [
       "<Figure size 432x288 with 1 Axes>"
      ]
     },
     "metadata": {
      "needs_background": "light",
      "tags": []
     },
     "output_type": "display_data"
    }
   ],
   "source": [
    "price_deltas = list()\n",
    "\n",
    "# calculate the percent change between time periods\n",
    "# delta_j = [y_(j+1) - y_j] / y_j\n",
    "\n",
    "\n",
    "\n",
    "\n",
    "\n",
    "\n",
    "# plot the derivative"
   ]
  },
  {
   "cell_type": "code",
   "execution_count": 112,
   "metadata": {
    "executionInfo": {
     "elapsed": 661,
     "status": "ok",
     "timestamp": 1619516936083,
     "user": {
      "displayName": "Pavan Dayal",
      "photoUrl": "https://lh3.googleusercontent.com/a-/AOh14Gjy4rkcpqQTMSXjC2faUXmSImvSus2_qjvQ62c8Hg=s64",
      "userId": "11444668130461239298"
     },
     "user_tz": 360
    },
    "id": "-lK0zONss2oj"
   },
   "outputs": [],
   "source": []
  },
  {
   "cell_type": "markdown",
   "metadata": {
    "id": "WxISKyu1vol3"
   },
   "source": [
    "---\n",
    "<a id='task4'></a>\n",
    "## For each fortnight (14 days), calculate average tweet positivity\n",
    "---"
   ]
  },
  {
   "cell_type": "markdown",
   "metadata": {
    "id": "_rCM7gLcvvwU"
   },
   "source": [
    "* calculate the average tweet positivity during 2 week intervals and plot\n",
    "\n"
   ]
  },
  {
   "cell_type": "code",
   "execution_count": 122,
   "metadata": {
    "colab": {
     "base_uri": "https://localhost:8080/",
     "height": 265
    },
    "executionInfo": {
     "elapsed": 358,
     "status": "ok",
     "timestamp": 1619517683910,
     "user": {
      "displayName": "Pavan Dayal",
      "photoUrl": "https://lh3.googleusercontent.com/a-/AOh14Gjy4rkcpqQTMSXjC2faUXmSImvSus2_qjvQ62c8Hg=s64",
      "userId": "11444668130461239298"
     },
     "user_tz": 360
    },
    "id": "Q6xzLKScuuw7",
    "outputId": "d74771d4-fdfd-406f-dda8-77c1a58fa3e2"
   },
   "outputs": [
    {
     "data": {
      "image/png": "[encoded data removed]",
      "text/plain": [
       "<Figure size 432x288 with 1 Axes>"
      ]
     },
     "metadata": {
      "needs_background": "light",
      "tags": []
     },
     "output_type": "display_data"
    }
   ],
   "source": [
    "# similar to with the stock price, calculate the average positivity\n",
    "# use the exact same time periods as used the stocks\n",
    "\n",
    "\n",
    "\n",
    "\n",
    "\n",
    "\n",
    "# plot the average positivity per fortnite over time\n",
    "\n",
    "\n",
    "\n",
    "\n",
    "\n",
    "\n"
   ]
  },
  {
   "cell_type": "markdown",
   "metadata": {
    "id": "TNzQeOe_yj5z"
   },
   "source": [
    "---\n",
    "<a id='task5'></a>\n",
    "## Calculate correlation between tweet positivity and stock prices deltas\n",
    "---"
   ]
  },
  {
   "cell_type": "markdown",
   "metadata": {
    "id": "aOqrb-6A3Sue"
   },
   "source": [
    "* calculate the correlation coefficient and find the best fit line\n",
    "$$\n",
    "\\begin{align*}\n",
    "  \\hat y &= \\beta_0 + \\beta_1 x \\\\\\\\\n",
    "  \\mu_x &= \\frac{1}{n} \\sum_j x_j \\\\\n",
    "  \\mu_y &= \\frac{1}{n} \\sum_j y_j \\\\\n",
    "  \\sigma_x^2 &= \\left( \\frac{1}{n} \\sum_j x_j^2 \\right) - \\mu_x^2 \\\\\n",
    "  \\sigma_y^2 &= \\left( \\frac{1}{n} \\sum_j x_j^2 \\right) - \\mu_x^2 \\\\\n",
    "  \\tau &= \\left( \\frac{1}{n} \\sum_j x_j y_j \\right) - \\mu_x \\mu_y \\\\\\\\\n",
    "  \\beta_1 &= \\frac{\\tau}{\\sigma_x^2} \\\\\n",
    "  \\beta_0 &= \\mu_y - \\beta_1 \\mu_x \\\\\\\\\n",
    "  r &= \\frac{\\tau}{\\sqrt{\\sigma_x^2 \\cdot \\sigma_y^2}}\n",
    "\\end{align*}\n",
    "$$\n",
    "* plot stock price deltas vs tweet positivity"
   ]
  },
  {
   "cell_type": "code",
   "execution_count": 159,
   "metadata": {
    "colab": {
     "base_uri": "https://localhost:8080/"
    },
    "executionInfo": {
     "elapsed": 347,
     "status": "ok",
     "timestamp": 1619519106661,
     "user": {
      "displayName": "Pavan Dayal",
      "photoUrl": "https://lh3.googleusercontent.com/a-/AOh14Gjy4rkcpqQTMSXjC2faUXmSImvSus2_qjvQ62c8Hg=s64",
      "userId": "11444668130461239298"
     },
     "user_tz": 360
    },
    "id": "APFL6039zv1I",
    "outputId": "4c7784b4-6e41-4a1e-ef1b-79274fdbaa5c"
   },
   "outputs": [
    {
     "name": "stdout",
     "output_type": "stream",
     "text": [
      "best fit line: y = (0.0232) + (0.4035)*x\n"
     ]
    }
   ],
   "source": [
    "# x = biweekly averaged tweet positivity\n",
    "# y = biweekly averaged stock price percent change\n",
    "\n",
    "\n",
    "# calculate correlation coefficient and parameters for the best fit line\n",
    "\n",
    "\n",
    "\n",
    "\n",
    "\n",
    "\n"
   ]
  },
  {
   "cell_type": "code",
   "execution_count": 167,
   "metadata": {
    "colab": {
     "base_uri": "https://localhost:8080/",
     "height": 298
    },
    "executionInfo": {
     "elapsed": 419,
     "status": "ok",
     "timestamp": 1619519834740,
     "user": {
      "displayName": "Pavan Dayal",
      "photoUrl": "https://lh3.googleusercontent.com/a-/AOh14Gjy4rkcpqQTMSXjC2faUXmSImvSus2_qjvQ62c8Hg=s64",
      "userId": "11444668130461239298"
     },
     "user_tz": 360
    },
    "id": "1_fkqXyI0Ppj",
    "outputId": "3f50a110-519d-4602-eba9-060dec4024d2"
   },
   "outputs": [
    {
     "name": "stdout",
     "output_type": "stream",
     "text": [
      "correlation: r = 0.3132\n"
     ]
    },
    {
     "data": {
      "image/png": "[encoded data removed]",
      "text/plain": [
       "<Figure size 432x288 with 1 Axes>"
      ]
     },
     "metadata": {
      "needs_background": "light",
      "tags": []
     },
     "output_type": "display_data"
    }
   ],
   "source": [
    "# make the scatter plot with the line on it\n",
    "\n",
    "\n",
    "\n",
    "\n"
   ]
  },
  {
   "cell_type": "code",
   "execution_count": 161,
   "metadata": {
    "executionInfo": {
     "elapsed": 329,
     "status": "ok",
     "timestamp": 1619519110443,
     "user": {
      "displayName": "Pavan Dayal",
      "photoUrl": "https://lh3.googleusercontent.com/a-/AOh14Gjy4rkcpqQTMSXjC2faUXmSImvSus2_qjvQ62c8Hg=s64",
      "userId": "11444668130461239298"
     },
     "user_tz": 360
    },
    "id": "JmnVldau0w2s"
   },
   "outputs": [],
   "source": [
    "# note:        |r| < 0.4, no correlation\n",
    "#        0.5 < |r| < 0.7: moderate correlation\n",
    "#        0.8 < |r| < 1.0: strong correlation"
   ]
  },
  {
   "cell_type": "code",
   "execution_count": 167,
   "metadata": {
    "executionInfo": {
     "elapsed": 330,
     "status": "ok",
     "timestamp": 1619519847692,
     "user": {
      "displayName": "Pavan Dayal",
      "photoUrl": "https://lh3.googleusercontent.com/a-/AOh14Gjy4rkcpqQTMSXjC2faUXmSImvSus2_qjvQ62c8Hg=s64",
      "userId": "11444668130461239298"
     },
     "user_tz": 360
    },
    "id": "tcvHFlwx07_V"
   },
   "outputs": [],
   "source": []
  },
  {
   "cell_type": "code",
   "execution_count": 167,
   "metadata": {
    "executionInfo": {
     "elapsed": 417,
     "status": "ok",
     "timestamp": 1619519848140,
     "user": {
      "displayName": "Pavan Dayal",
      "photoUrl": "https://lh3.googleusercontent.com/a-/AOh14Gjy4rkcpqQTMSXjC2faUXmSImvSus2_qjvQ62c8Hg=s64",
      "userId": "11444668130461239298"
     },
     "user_tz": 360
    },
    "id": "Q0J1Pdvm4seA"
   },
   "outputs": [],
   "source": []
  }
 ],
 "metadata": {
  "colab": {
   "collapsed_sections": [],
   "name": "twitter_predictor.ipynb",
   "provenance": [],
   "toc_visible": true
  },
  "kernelspec": {
   "display_name": "Python 3",
   "language": "python",
   "name": "python3"
  },
  "language_info": {
   "codemirror_mode": {
    "name": "ipython",
    "version": 3
   },
   "file_extension": ".py",
   "mimetype": "text/x-python",
   "name": "python",
   "nbconvert_exporter": "python",
   "pygments_lexer": "ipython3",
   "version": "3.9.4"
  }
 },
 "nbformat": 4,
 "nbformat_minor": 4
}
